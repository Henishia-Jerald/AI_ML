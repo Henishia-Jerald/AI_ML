{
 "cells": [
  {
   "cell_type": "markdown",
   "id": "a73bbfba-af4b-40d6-90a3-795ef18af4b1",
   "metadata": {
    "tags": []
   },
   "source": [
    "# **building an automatic reporting system that recognizes the boat**"
   ]
  },
  {
   "cell_type": "code",
   "execution_count": 1,
   "id": "3564b142-5d44-4d64-89b5-01d2676a85e7",
   "metadata": {},
   "outputs": [],
   "source": [
    "import tensorflow as tf\n",
    "from keras.models import Sequential\n",
    "from keras.layers import Convolution2D\n",
    "from keras.layers import MaxPooling2D\n",
    "from keras.layers import GlobalAveragePooling2D\n",
    "from keras.layers import Flatten\n",
    "from keras.layers import Dense\n",
    "from keras.metrics import Precision\n",
    "from keras.metrics import Recall\n",
    "from keras.metrics import categorical_crossentropy\n",
    "from keras import layers\n"
   ]
  },
  {
   "cell_type": "markdown",
   "id": "1f33d44d-d757-4bdb-a774-c6deb6419cfc",
   "metadata": {},
   "source": [
    "**Splitting the dataset into train and test in the ratio 80:20**"
   ]
  },
  {
   "cell_type": "code",
   "execution_count": 2,
   "id": "94791c2a-249f-485a-952e-7a87afb2522d",
   "metadata": {},
   "outputs": [
    {
     "name": "stderr",
     "output_type": "stream",
     "text": [
      "Copying files: 1162 files [00:02, 452.69 files/s]\n"
     ]
    }
   ],
   "source": [
    "import splitfolders\n",
    "from os import listdir   \n",
    "\n",
    "input_folder = r\"C:\\Users\\henis\\OneDrive\\Pictures\\Screenshots\\OneDrive\\Desktop\\AL_ML_Classnotes\\Deep Learning\\Project\\input\"\n",
    "output = r\"C:\\Users\\henis\\OneDrive\\Pictures\\Screenshots\\OneDrive\\Desktop\\AL_ML_Classnotes\\Deep Learning\\Project\\train_val_data\"\n",
    "\n",
    "splitfolders.ratio(input_folder,output=output,seed= 42, ratio=(.8,.2))\n"
   ]
  },
  {
   "cell_type": "markdown",
   "id": "92339957-9dce-4d52-9701-dea8dcf5a310",
   "metadata": {},
   "source": [
    "**Initializing the train generator and test generator Using Keras ImageDataGenerator**"
   ]
  },
  {
   "cell_type": "markdown",
   "id": "f6e84569-e904-4a6a-a938-520e0a504a92",
   "metadata": {},
   "source": [
    "**Both generators are initialized with data normalization** \n"
   ]
  },
  {
   "cell_type": "code",
   "execution_count": 3,
   "id": "3502ac09-8c90-4ad0-b9e2-037493239c36",
   "metadata": {},
   "outputs": [],
   "source": [
    "from keras.preprocessing.image import ImageDataGenerator\n",
    "\n",
    "train_datagen = ImageDataGenerator(rescale=1./255, shear_range=0.2,zoom_range=0.2, horizontal_flip=True)\n",
    "test_datagen = ImageDataGenerator(rescale=1./255)\n"
   ]
  },
  {
   "cell_type": "markdown",
   "id": "e003519c-419c-4cb1-bd3d-8791e3a06a18",
   "metadata": {},
   "source": [
    "**Loading train and validation in batches of 32 using the generators initialized**"
   ]
  },
  {
   "cell_type": "code",
   "execution_count": 4,
   "id": "91c977f4-c5ce-4f20-8da8-04cd8dbf6341",
   "metadata": {},
   "outputs": [
    {
     "name": "stdout",
     "output_type": "stream",
     "text": [
      "Found 925 images belonging to 9 classes.\n",
      "Found 237 images belonging to 9 classes.\n"
     ]
    }
   ],
   "source": [
    "\n",
    "train_set = train_datagen.flow_from_directory(\n",
    "    r\"C:\\Users\\henis\\OneDrive\\Pictures\\Screenshots\\OneDrive\\Desktop\\AL_ML_Classnotes\\Deep Learning\\Project\\train_val_data\\train\",\n",
    "                                              target_size=(64,64),\n",
    "                                              batch_size= 32,\n",
    "                                              shuffle=True , \n",
    "                                              class_mode='categorical')\n",
    "\n",
    "test_set = test_datagen.flow_from_directory(r\"C:\\Users\\henis\\OneDrive\\Pictures\\Screenshots\\OneDrive\\Desktop\\AL_ML_Classnotes\\Deep Learning\\Project\\train_val_data\\val\",\n",
    "                                              target_size=(64,64),\n",
    "                                              batch_size= 32,\n",
    "                                              shuffle=True, \n",
    "                                              class_mode='categorical')"
   ]
  },
  {
   "cell_type": "markdown",
   "id": "e35c261f-a9c8-4720-b1e6-5b240ede4249",
   "metadata": {},
   "source": [
    "**Loading the test dataset in batches of 32 using the generators initialized**"
   ]
  },
  {
   "cell_type": "code",
   "execution_count": 5,
   "id": "e39d0c45-5ad2-41ce-9d9e-4bf4f720330e",
   "metadata": {},
   "outputs": [
    {
     "name": "stdout",
     "output_type": "stream",
     "text": [
      "Found 8 images belonging to 1 classes.\n"
     ]
    }
   ],
   "source": [
    "test_inputs = ImageDataGenerator(rescale=1./255)\n",
    "test_img_set = test_inputs.flow_from_directory(r\"C:\\Users\\henis\\OneDrive\\Pictures\\Screenshots\\OneDrive\\Desktop\\AL_ML_Classnotes\\Deep Learning\\Project\\testdata_boat\",\n",
    "                                              target_size=(64,64),\n",
    "                                              batch_size= 32,\n",
    "                                              shuffle=True, \n",
    "                                              class_mode='categorical')"
   ]
  },
  {
   "cell_type": "markdown",
   "id": "576857fb-1b7b-440b-80d9-f6de06d69a0d",
   "metadata": {},
   "source": [
    "### **1. Building a CNN network using Keras**"
   ]
  },
  {
   "cell_type": "code",
   "execution_count": 6,
   "id": "d9a92a75-2350-4132-9381-7456822793c2",
   "metadata": {},
   "outputs": [],
   "source": [
    "classifier = Sequential()\n",
    "classifier.add(Convolution2D(32,3,3,input_shape=(64,64,3), activation=\"relu\"))\n",
    "classifier.add(MaxPooling2D(pool_size=(2,2)))"
   ]
  },
  {
   "cell_type": "code",
   "execution_count": 7,
   "id": "d44b76f3-6928-43f6-a5a7-c680761ea44d",
   "metadata": {},
   "outputs": [],
   "source": [
    "classifier.add(Convolution2D(32,3,3, activation=\"relu\"))\n",
    "classifier.add(MaxPooling2D(pool_size=(2,2)))"
   ]
  },
  {
   "cell_type": "code",
   "execution_count": 8,
   "id": "f0718e56-4e5c-4e5e-8dfb-24ec135b3532",
   "metadata": {},
   "outputs": [],
   "source": [
    "classifier.add(GlobalAveragePooling2D())"
   ]
  },
  {
   "cell_type": "code",
   "execution_count": 9,
   "id": "bf0eaa49-481c-4977-ad71-7cdd6f06842d",
   "metadata": {},
   "outputs": [],
   "source": [
    "classifier.add(Flatten())"
   ]
  },
  {
   "cell_type": "code",
   "execution_count": 10,
   "id": "5088e904-7eb6-4840-b61f-cde998815f7e",
   "metadata": {},
   "outputs": [],
   "source": [
    "classifier.add(Dense(units=128, activation=\"relu\"))\n",
    "classifier.add(Dense(units=128, activation=\"relu\"))\n",
    "classifier.add(Dense(units=9, activation=\"softmax\"))"
   ]
  },
  {
   "cell_type": "markdown",
   "id": "f457a12d-f25b-4a47-8d1b-f8cb592529b4",
   "metadata": {},
   "source": [
    "**Compiling the model**"
   ]
  },
  {
   "cell_type": "code",
   "execution_count": 11,
   "id": "9a48663b-057c-4552-a6d9-decfe88c894e",
   "metadata": {},
   "outputs": [],
   "source": [
    "classifier.compile(optimizer='adam', loss = 'categorical_crossentropy', metrics=['accuracy',Precision(),Recall()])"
   ]
  },
  {
   "cell_type": "markdown",
   "id": "ad41d896-5422-44fa-a2bf-00f6a926e421",
   "metadata": {},
   "source": [
    "**Training the model for 20 epochs**"
   ]
  },
  {
   "cell_type": "code",
   "execution_count": 12,
   "id": "f82f7181-7868-4a45-b0ea-167e5510dbd3",
   "metadata": {},
   "outputs": [
    {
     "name": "stdout",
     "output_type": "stream",
     "text": [
      "Epoch 1/20\n",
      "29/29 [==============================] - 29s 921ms/step - loss: 1.8897 - accuracy: 0.3362 - precision: 0.6364 - recall: 0.0076 - val_loss: 1.8428 - val_accuracy: 0.3291 - val_precision: 0.0000e+00 - val_recall: 0.0000e+00\n",
      "Epoch 2/20\n",
      "29/29 [==============================] - 23s 812ms/step - loss: 1.8102 - accuracy: 0.3362 - precision: 0.8000 - recall: 0.0086 - val_loss: 1.8110 - val_accuracy: 0.3291 - val_precision: 0.0000e+00 - val_recall: 0.0000e+00\n",
      "Epoch 3/20\n",
      "29/29 [==============================] - 28s 960ms/step - loss: 1.8021 - accuracy: 0.3362 - precision: 0.4545 - recall: 0.0270 - val_loss: 1.8148 - val_accuracy: 0.3291 - val_precision: 0.0000e+00 - val_recall: 0.0000e+00\n",
      "Epoch 4/20\n",
      "29/29 [==============================] - 30s 1s/step - loss: 1.7823 - accuracy: 0.3362 - precision: 0.0000e+00 - recall: 0.0000e+00 - val_loss: 1.8038 - val_accuracy: 0.3291 - val_precision: 0.0000e+00 - val_recall: 0.0000e+00\n",
      "Epoch 5/20\n",
      "29/29 [==============================] - 29s 1s/step - loss: 1.7556 - accuracy: 0.3492 - precision: 0.7000 - recall: 0.0227 - val_loss: 1.7832 - val_accuracy: 0.3671 - val_precision: 0.0000e+00 - val_recall: 0.0000e+00\n",
      "Epoch 6/20\n",
      "29/29 [==============================] - 31s 1s/step - loss: 1.7174 - accuracy: 0.3514 - precision: 0.6618 - recall: 0.0486 - val_loss: 1.7699 - val_accuracy: 0.3755 - val_precision: 0.0000e+00 - val_recall: 0.0000e+00\n",
      "Epoch 7/20\n",
      "29/29 [==============================] - 30s 1s/step - loss: 1.6912 - accuracy: 0.3978 - precision: 0.5743 - recall: 0.0627 - val_loss: 1.7163 - val_accuracy: 0.3755 - val_precision: 0.8333 - val_recall: 0.0211\n",
      "Epoch 8/20\n",
      "29/29 [==============================] - 29s 1s/step - loss: 1.6691 - accuracy: 0.4022 - precision: 0.7000 - recall: 0.0832 - val_loss: 1.6711 - val_accuracy: 0.4051 - val_precision: 0.6304 - val_recall: 0.1224\n",
      "Epoch 9/20\n",
      "29/29 [==============================] - 29s 1s/step - loss: 1.6380 - accuracy: 0.4022 - precision: 0.6409 - recall: 0.1254 - val_loss: 1.6794 - val_accuracy: 0.4219 - val_precision: 0.6667 - val_recall: 0.1266\n",
      "Epoch 10/20\n",
      "29/29 [==============================] - 29s 1s/step - loss: 1.6273 - accuracy: 0.4108 - precision: 0.5858 - recall: 0.1514 - val_loss: 1.6337 - val_accuracy: 0.4810 - val_precision: 0.7500 - val_recall: 0.0633\n",
      "Epoch 11/20\n",
      "29/29 [==============================] - 29s 1s/step - loss: 1.6303 - accuracy: 0.4335 - precision: 0.5896 - recall: 0.1103 - val_loss: 1.6818 - val_accuracy: 0.4008 - val_precision: 0.5949 - val_recall: 0.1983\n",
      "Epoch 12/20\n",
      "29/29 [==============================] - 30s 1s/step - loss: 1.5806 - accuracy: 0.4584 - precision: 0.6069 - recall: 0.1719 - val_loss: 1.6973 - val_accuracy: 0.4262 - val_precision: 0.5455 - val_recall: 0.2785\n",
      "Epoch 13/20\n",
      "29/29 [==============================] - 30s 1s/step - loss: 1.5437 - accuracy: 0.4703 - precision: 0.6693 - recall: 0.1859 - val_loss: 1.6166 - val_accuracy: 0.4515 - val_precision: 0.6329 - val_recall: 0.2110\n",
      "Epoch 14/20\n",
      "29/29 [==============================] - 29s 1s/step - loss: 1.5289 - accuracy: 0.4822 - precision: 0.6162 - recall: 0.1978 - val_loss: 1.5828 - val_accuracy: 0.4895 - val_precision: 0.6447 - val_recall: 0.2068\n",
      "Epoch 15/20\n",
      "29/29 [==============================] - 30s 1s/step - loss: 1.4940 - accuracy: 0.4778 - precision: 0.6396 - recall: 0.2303 - val_loss: 1.5435 - val_accuracy: 0.4895 - val_precision: 0.6429 - val_recall: 0.2278\n",
      "Epoch 16/20\n",
      "29/29 [==============================] - 29s 1s/step - loss: 1.4615 - accuracy: 0.4973 - precision: 0.6825 - recall: 0.2649 - val_loss: 1.5931 - val_accuracy: 0.4304 - val_precision: 0.5504 - val_recall: 0.2996\n",
      "Epoch 17/20\n",
      "29/29 [==============================] - 29s 1s/step - loss: 1.5126 - accuracy: 0.4562 - precision: 0.6440 - recall: 0.2151 - val_loss: 1.5742 - val_accuracy: 0.4726 - val_precision: 0.6333 - val_recall: 0.3207\n",
      "Epoch 18/20\n",
      "29/29 [==============================] - 29s 1s/step - loss: 1.4446 - accuracy: 0.5070 - precision: 0.6771 - recall: 0.2811 - val_loss: 1.5669 - val_accuracy: 0.4937 - val_precision: 0.5923 - val_recall: 0.3249\n",
      "Epoch 19/20\n",
      "29/29 [==============================] - 31s 1s/step - loss: 1.4110 - accuracy: 0.5232 - precision: 0.6891 - recall: 0.2995 - val_loss: 1.5149 - val_accuracy: 0.4979 - val_precision: 0.6303 - val_recall: 0.3165\n",
      "Epoch 20/20\n",
      "29/29 [==============================] - 29s 1s/step - loss: 1.4135 - accuracy: 0.5232 - precision: 0.6799 - recall: 0.2962 - val_loss: 1.5139 - val_accuracy: 0.5063 - val_precision: 0.6406 - val_recall: 0.3460\n"
     ]
    }
   ],
   "source": [
    "history = classifier.fit(train_set,validation_split=0.33,epochs=20,validation_data=test_set)"
   ]
  },
  {
   "cell_type": "markdown",
   "id": "1ae27c68-fe9d-4d24-8f6c-f5d40ada167b",
   "metadata": {},
   "source": [
    "**plotting training loss and accuracy against epochs**\n"
   ]
  },
  {
   "cell_type": "code",
   "execution_count": 13,
   "id": "7c3f4eba-4700-40a7-93b0-9b04d35c0a59",
   "metadata": {},
   "outputs": [
    {
     "data": {
      "image/png": "[encoded data removed]",
      "text/plain": [
       "<Figure size 640x480 with 1 Axes>"
      ]
     },
     "metadata": {},
     "output_type": "display_data"
    }
   ],
   "source": [
    "from matplotlib import pyplot as plt\n",
    "\n",
    "plt.plot(history.history['loss'])\n",
    "plt.plot(history.history['val_loss'])\n",
    "plt.title('model loss')\n",
    "plt.ylabel('loss')\n",
    "plt.xlabel('epoch')\n",
    "plt.legend(['train loss', 'validation loss'], loc='upper left')\n",
    "plt.show()"
   ]
  },
  {
   "cell_type": "markdown",
   "id": "47a8a32e-1492-478b-bc86-4e84f436c962",
   "metadata": {},
   "source": [
    "**plotting testing loss and accuracy against epochs**\n"
   ]
  },
  {
   "cell_type": "code",
   "execution_count": 14,
   "id": "4824141c-7975-4bbd-8ce0-ad02c65caefa",
   "metadata": {},
   "outputs": [
    {
     "name": "stdout",
     "output_type": "stream",
     "text": [
      "dict_keys(['loss', 'accuracy', 'precision', 'recall', 'val_loss', 'val_accuracy', 'val_precision', 'val_recall'])\n"
     ]
    },
    {
     "data": {
      "image/png": "[encoded data removed]",
      "text/plain": [
       "<Figure size 640x480 with 1 Axes>"
      ]
     },
     "metadata": {},
     "output_type": "display_data"
    }
   ],
   "source": [
    "print(history.history.keys())\n",
    "#  \"Accuracy\"\n",
    "plt.plot(history.history['accuracy'])\n",
    "plt.plot(history.history['val_accuracy'])\n",
    "plt.title('model accuracy')\n",
    "plt.ylabel('accuracy')\n",
    "plt.xlabel('epoch')\n",
    "plt.legend(['train accuracy', 'validation accuracy'], loc='upper left')\n",
    "plt.show()"
   ]
  },
  {
   "cell_type": "markdown",
   "id": "af0739a3-3452-44de-9ca5-54f0f1733550",
   "metadata": {},
   "source": [
    "**Evaluating the model on test images**"
   ]
  },
  {
   "cell_type": "code",
   "execution_count": 15,
   "id": "3a03ec4f-a2a6-4742-b45b-fafebb92c40b",
   "metadata": {},
   "outputs": [],
   "source": [
    "import numpy as np\n",
    "from keras.utils import load_img\n",
    "from keras.utils import img_to_array\n",
    "from os import listdir\n",
    "from os.path import isfile,join"
   ]
  },
  {
   "cell_type": "code",
   "execution_count": 16,
   "id": "1f34c743-7b94-46fd-9c6e-26676b63cbe7",
   "metadata": {},
   "outputs": [
    {
     "name": "stdout",
     "output_type": "stream",
     "text": [
      "['29.jpg', '33.jpg', '34.jpg', '60.jpg', 'buoy.jpg', 'Ferry.jpg', 'freight.jpg', 'paper.jpg']\n"
     ]
    }
   ],
   "source": [
    "test_image_path = \"C:/Users/henis/OneDrive/Pictures/Screenshots/OneDrive/Desktop/AL_ML_Classnotes/Deep Learning/Project/testdata_boat/\"\n",
    "test_images = [img for img in listdir(test_image_path) if isfile(join(test_image_path,img))]\n",
    "print(test_images)\n",
    "                                                                 "
   ]
  },
  {
   "cell_type": "code",
   "execution_count": 17,
   "id": "d17d07da-f1db-4d62-9032-8bdaaa21cb7b",
   "metadata": {},
   "outputs": [
    {
     "data": {
      "text/plain": [
       "{'buoy': 0,\n",
       " 'cruise_ship': 1,\n",
       " 'ferry_boat': 2,\n",
       " 'freight_boat': 3,\n",
       " 'gondola': 4,\n",
       " 'inflatable_boat': 5,\n",
       " 'kayak': 6,\n",
       " 'paper_boat': 7,\n",
       " 'sailboat': 8}"
      ]
     },
     "execution_count": 17,
     "metadata": {},
     "output_type": "execute_result"
    }
   ],
   "source": [
    "train_set.class_indices"
   ]
  },
  {
   "cell_type": "code",
   "execution_count": 18,
   "id": "3ca76ea9-7fca-489b-b8ca-895b9e83c72a",
   "metadata": {},
   "outputs": [
    {
     "data": {
      "text/plain": [
       "dict_items([('buoy', 0), ('cruise_ship', 1), ('ferry_boat', 2), ('freight_boat', 3), ('gondola', 4), ('inflatable_boat', 5), ('kayak', 6), ('paper_boat', 7), ('sailboat', 8)])"
      ]
     },
     "execution_count": 18,
     "metadata": {},
     "output_type": "execute_result"
    }
   ],
   "source": [
    "train_set.class_indices.items()\n"
   ]
  },
  {
   "cell_type": "code",
   "execution_count": 19,
   "id": "fd049835-082c-406c-a48e-73b07223a590",
   "metadata": {},
   "outputs": [
    {
     "name": "stdout",
     "output_type": "stream",
     "text": [
      "1/1 [==============================] - 0s 103ms/step\n",
      "8 : sailboat\n",
      "\n",
      "\n",
      "1/1 [==============================] - 0s 20ms/step\n",
      "8 : sailboat\n",
      "\n",
      "\n",
      "1/1 [==============================] - 0s 20ms/step\n",
      "8 : sailboat\n",
      "\n",
      "\n",
      "1/1 [==============================] - 0s 22ms/step\n",
      "8 : sailboat\n",
      "\n",
      "\n",
      "1/1 [==============================] - 0s 29ms/step\n",
      "8 : sailboat\n",
      "\n",
      "\n",
      "1/1 [==============================] - 0s 30ms/step\n",
      "4 : gondola\n",
      "\n",
      "\n",
      "1/1 [==============================] - 0s 20ms/step\n",
      "8 : sailboat\n",
      "\n",
      "\n",
      "1/1 [==============================] - 0s 30ms/step\n",
      "8 : sailboat\n",
      "\n",
      "\n"
     ]
    }
   ],
   "source": [
    "for img in test_images:\n",
    "    x = load_img(test_image_path+img, target_size=(64,64))\n",
    "    x = img_to_array(x)\n",
    "    x = np.expand_dims(x, axis =0)\n",
    "    \n",
    "    # print(x.shape)\n",
    "    \n",
    "    \n",
    "    # x = np.vstack(x)\n",
    "    classes = classifier.predict(x)\n",
    "    classes = np.array(classes.flatten())\n",
    "    \n",
    "    \n",
    "    max_index = np.where(classes >= 0.5)    \n",
    "    for key,val in train_set.class_indices.items():\n",
    "        if max_index[0][0] == val:\n",
    "            print(val,\":\",key)\n",
    "            print(\"\\n\")"
   ]
  },
  {
   "cell_type": "markdown",
   "id": "8630e672-5cc2-430d-b5c8-80035d4361fc",
   "metadata": {},
   "source": [
    "**printing the test loss and accuracy**"
   ]
  },
  {
   "cell_type": "code",
   "execution_count": 20,
   "id": "b057eaff-30bd-4aac-8b98-47fb59669489",
   "metadata": {},
   "outputs": [
    {
     "name": "stdout",
     "output_type": "stream",
     "text": [
      "8/8 [==============================] - 6s 804ms/step - loss: 1.5139 - accuracy: 0.5063 - precision: 0.6406 - recall: 0.3460\n",
      "Test loss: 1.5138884782791138\n",
      "Test accuracy: 0.5063291192054749\n"
     ]
    }
   ],
   "source": [
    "score = classifier.evaluate(test_set, verbose = 1) \n",
    "print('Test loss:', score[0]) \n",
    "print('Test accuracy:', score[1])"
   ]
  },
  {
   "cell_type": "markdown",
   "id": "39df9373-a7a6-4ad8-b877-81f05a5bad53",
   "metadata": {},
   "source": [
    "### **2. MobileNetV2 light weight model**"
   ]
  },
  {
   "cell_type": "code",
   "execution_count": 21,
   "id": "1fc598f7-e008-474e-9128-6140ffe2296d",
   "metadata": {},
   "outputs": [],
   "source": [
    "from keras.applications import MobileNetV2, DenseNet121\n",
    "import tensorflow_hub as hub\n",
    "from tensorflow.keras.layers import BatchNormalization\n",
    "from keras.callbacks import EarlyStopping "
   ]
  },
  {
   "cell_type": "markdown",
   "id": "2264ea4e-649f-4f3c-b03e-f2e9fd39680e",
   "metadata": {},
   "source": [
    "**1) Using Keras ImageDataGenerator the train generator is initialized with validation_split=0.2 and test generator**\n",
    "**2) Splitting the dataset into train and test datasets in the ration 70:30, with shuffle and random state=1**"
   ]
  },
  {
   "cell_type": "code",
   "execution_count": 22,
   "id": "ddb361d1-304a-4e1c-929d-c45108105376",
   "metadata": {},
   "outputs": [],
   "source": [
    "train_datagen = ImageDataGenerator(rescale=1./255,\n",
    "    shear_range=0.2,\n",
    "    zoom_range=0.2,\n",
    "    horizontal_flip=True,\n",
    "    validation_split=0.3)"
   ]
  },
  {
   "cell_type": "code",
   "execution_count": 23,
   "id": "85ca54d0-7b9e-4865-9a5d-0474581a4ceb",
   "metadata": {},
   "outputs": [
    {
     "name": "stdout",
     "output_type": "stream",
     "text": [
      "Found 820 images belonging to 9 classes.\n"
     ]
    }
   ],
   "source": [
    "train_generator = train_datagen.flow_from_directory(\n",
    "    r'C:\\Users\\henis\\OneDrive\\Pictures\\Screenshots\\OneDrive\\Desktop\\AL_ML_Classnotes\\Deep Learning\\Project\\Automating_Port_Operations_dataset',\n",
    "    target_size= ((224, 224)),\n",
    "    batch_size=32,\n",
    "    shuffle=True,\n",
    "    class_mode='categorical',\n",
    "    subset='training')"
   ]
  },
  {
   "cell_type": "code",
   "execution_count": 24,
   "id": "cd6e552e-3398-4578-949b-f4b21b9577e1",
   "metadata": {},
   "outputs": [
    {
     "name": "stdout",
     "output_type": "stream",
     "text": [
      "Found 342 images belonging to 9 classes.\n"
     ]
    }
   ],
   "source": [
    "validation_generator = train_datagen.flow_from_directory(\n",
    "    r'C:\\Users\\henis\\OneDrive\\Pictures\\Screenshots\\OneDrive\\Desktop\\AL_ML_Classnotes\\Deep Learning\\Project\\Automating_Port_Operations_dataset',\n",
    "    target_size= (64,64),\n",
    "    batch_size=32,\n",
    "    shuffle=True,\n",
    "    class_mode='categorical',\n",
    "    subset='validation')"
   ]
  },
  {
   "cell_type": "code",
   "execution_count": 25,
   "id": "a7299364-55bc-423b-b962-4cef5e1455d9",
   "metadata": {},
   "outputs": [
    {
     "name": "stdout",
     "output_type": "stream",
     "text": [
      "Found 8 images belonging to 1 classes.\n"
     ]
    }
   ],
   "source": [
    "test_data = train_datagen.flow_from_directory(\n",
    "    r'C:\\Users\\henis\\OneDrive\\Pictures\\Screenshots\\OneDrive\\Desktop\\AL_ML_Classnotes\\Deep Learning\\Project\\testdata_boat',\n",
    "    target_size= (64,64),\n",
    "    batch_size=32,\n",
    "    shuffle=True,\n",
    "    class_mode='categorical')"
   ]
  },
  {
   "cell_type": "markdown",
   "id": "d24e2096-c93b-480d-9bd0-2e6fc00e78c8",
   "metadata": {},
   "source": [
    "**Building a CNN network using Keras with layers**"
   ]
  },
  {
   "cell_type": "code",
   "execution_count": 26,
   "id": "2d2c0252-57f4-4b7b-93cb-8f56305f19c3",
   "metadata": {},
   "outputs": [],
   "source": [
    "mobile = MobileNetV2(input_shape=(96,96,3),include_top=False,weights='imagenet')\n"
   ]
  },
  {
   "cell_type": "code",
   "execution_count": 27,
   "id": "9ab78d12-c3e4-4d33-ae8e-ec39653dbcfe",
   "metadata": {},
   "outputs": [
    {
     "name": "stdout",
     "output_type": "stream",
     "text": [
      "Model: \"sequential_1\"\n",
      "_________________________________________________________________\n",
      " Layer (type)                Output Shape              Param #   \n",
      "=================================================================\n",
      " mobilenetv2_1.00_96 (Funct  (None, 3, 3, 1280)        2257984   \n",
      " ional)                                                          \n",
      "                                                                 \n",
      "=================================================================\n",
      "Total params: 2257984 (8.61 MB)\n",
      "Trainable params: 2223872 (8.48 MB)\n",
      "Non-trainable params: 34112 (133.25 KB)\n",
      "_________________________________________________________________\n"
     ]
    }
   ],
   "source": [
    "model = Sequential()\n",
    "model.add(mobile)\n",
    "model.summary()"
   ]
  },
  {
   "cell_type": "code",
   "execution_count": 28,
   "id": "b2c2464d-2f99-489e-b01b-a6accc3f3a46",
   "metadata": {},
   "outputs": [],
   "source": [
    "# model.add(Convolution2D(32,3, 3, input_shape = (64, 64, 3), activation = 'relu'))\n"
   ]
  },
  {
   "cell_type": "code",
   "execution_count": 29,
   "id": "54612aba-286d-4b52-8572-f2841745484f",
   "metadata": {},
   "outputs": [],
   "source": [
    "model.add(GlobalAveragePooling2D())\n",
    "\n",
    "\n",
    "\n",
    "\n",
    "model.add(Dense(units = 256, activation = 'relu'))\n",
    "model.add(BatchNormalization())\n",
    "model.add(layers.Dropout(0.1))\n",
    "\n",
    "model.add(Dense(units = 128, activation = 'relu'))\n",
    "model.add(BatchNormalization())\n",
    "model.add(layers.Dropout(0.1))\n",
    "\n",
    "model.add(Dense(units = 9, activation = 'softmax'))\n",
    "# model.add(tf.keras.layers.Flatten())"
   ]
  },
  {
   "cell_type": "markdown",
   "id": "b3242f7f-6e79-48c6-a98e-25a57e1b0141",
   "metadata": {},
   "source": [
    "**Compiling the model with Adam optimizer, categorical_crossentropy loss, and metrics accuracy, Precision, and Recall**"
   ]
  },
  {
   "cell_type": "code",
   "execution_count": 30,
   "id": "e1bc4666-4bf2-437e-9931-9e63553d859c",
   "metadata": {},
   "outputs": [],
   "source": [
    "model.compile(optimizer='adam', loss = 'categorical_crossentropy', metrics=['accuracy',Precision(),Recall()])"
   ]
  },
  {
   "cell_type": "markdown",
   "id": "e3d41e74-d1ae-4c41-a3da-ed864e2a0bb9",
   "metadata": {},
   "source": [
    "**Training the model for 50 epochs and Early stopping while monitoring validation loss**"
   ]
  },
  {
   "cell_type": "code",
   "execution_count": 31,
   "id": "a2c152bb-af48-46a4-81c4-e8697239a0a4",
   "metadata": {},
   "outputs": [
    {
     "name": "stdout",
     "output_type": "stream",
     "text": [
      "Epoch 1/50\n",
      "26/26 [==============================] - 145s 5s/step - loss: 1.5245 - accuracy: 0.5634 - precision_1: 0.7075 - recall_1: 0.4512 - val_loss: 3.1911 - val_accuracy: 0.2398 - val_precision_1: 0.3315 - val_recall_1: 0.1754\n",
      "Epoch 2/50\n",
      "26/26 [==============================] - 110s 4s/step - loss: 0.7640 - accuracy: 0.7659 - precision_1: 0.8343 - recall_1: 0.7000 - val_loss: 3.7715 - val_accuracy: 0.2251 - val_precision_1: 0.2953 - val_recall_1: 0.1667\n",
      "Epoch 3/50\n",
      "26/26 [==============================] - 108s 4s/step - loss: 0.5956 - accuracy: 0.8134 - precision_1: 0.8654 - recall_1: 0.7683 - val_loss: 3.5582 - val_accuracy: 0.2515 - val_precision_1: 0.3317 - val_recall_1: 0.1988\n",
      "Epoch 4/50\n",
      "26/26 [==============================] - 106s 4s/step - loss: 0.3931 - accuracy: 0.8793 - precision_1: 0.9098 - recall_1: 0.8488 - val_loss: 5.9356 - val_accuracy: 0.3012 - val_precision_1: 0.3486 - val_recall_1: 0.2895\n",
      "Epoch 5/50\n",
      "26/26 [==============================] - 105s 4s/step - loss: 0.3333 - accuracy: 0.9024 - precision_1: 0.9203 - recall_1: 0.8732 - val_loss: 6.0443 - val_accuracy: 0.3158 - val_precision_1: 0.3344 - val_recall_1: 0.3012\n",
      "Epoch 6/50\n",
      "26/26 [==============================] - 109s 4s/step - loss: 0.3571 - accuracy: 0.8915 - precision_1: 0.9189 - recall_1: 0.8707 - val_loss: 5.3740 - val_accuracy: 0.3012 - val_precision_1: 0.3137 - val_recall_1: 0.2807\n",
      "Epoch 7/50\n",
      "26/26 [==============================] - 108s 4s/step - loss: 0.3221 - accuracy: 0.9061 - precision_1: 0.9269 - recall_1: 0.8817 - val_loss: 7.9266 - val_accuracy: 0.2368 - val_precision_1: 0.2445 - val_recall_1: 0.2281\n",
      "Epoch 8/50\n",
      "26/26 [==============================] - 108s 4s/step - loss: 0.2623 - accuracy: 0.9244 - precision_1: 0.9352 - recall_1: 0.9159 - val_loss: 7.0630 - val_accuracy: 0.3480 - val_precision_1: 0.3698 - val_recall_1: 0.3363\n",
      "Epoch 9/50\n",
      "26/26 [==============================] - 109s 4s/step - loss: 0.2794 - accuracy: 0.9024 - precision_1: 0.9186 - recall_1: 0.8951 - val_loss: 7.0825 - val_accuracy: 0.2485 - val_precision_1: 0.2605 - val_recall_1: 0.2368\n",
      "Epoch 10/50\n",
      "26/26 [==============================] - 107s 4s/step - loss: 0.2530 - accuracy: 0.9207 - precision_1: 0.9311 - recall_1: 0.9061 - val_loss: 5.6565 - val_accuracy: 0.3129 - val_precision_1: 0.3251 - val_recall_1: 0.3070\n",
      "Epoch 11/50\n",
      "26/26 [==============================] - 101s 4s/step - loss: 0.2908 - accuracy: 0.9024 - precision_1: 0.9180 - recall_1: 0.8878 - val_loss: 5.7387 - val_accuracy: 0.3538 - val_precision_1: 0.3694 - val_recall_1: 0.3392\n",
      "Epoch 12/50\n",
      "26/26 [==============================] - 89s 3s/step - loss: 0.2153 - accuracy: 0.9378 - precision_1: 0.9488 - recall_1: 0.9256 - val_loss: 6.4973 - val_accuracy: 0.3713 - val_precision_1: 0.4006 - val_recall_1: 0.3655\n",
      "Epoch 13/50\n",
      "26/26 [==============================] - 89s 3s/step - loss: 0.2022 - accuracy: 0.9317 - precision_1: 0.9497 - recall_1: 0.9220 - val_loss: 9.9200 - val_accuracy: 0.2222 - val_precision_1: 0.2320 - val_recall_1: 0.2164\n",
      "Epoch 14/50\n",
      "26/26 [==============================] - 93s 4s/step - loss: 0.1403 - accuracy: 0.9500 - precision_1: 0.9601 - recall_1: 0.9402 - val_loss: 9.0623 - val_accuracy: 0.2368 - val_precision_1: 0.2539 - val_recall_1: 0.2368\n",
      "Epoch 15/50\n",
      "26/26 [==============================] - 87s 3s/step - loss: 0.1382 - accuracy: 0.9646 - precision_1: 0.9702 - recall_1: 0.9537 - val_loss: 5.9439 - val_accuracy: 0.3187 - val_precision_1: 0.3354 - val_recall_1: 0.3129\n",
      "Epoch 16/50\n",
      "26/26 [==============================] - 89s 3s/step - loss: 0.1555 - accuracy: 0.9585 - precision_1: 0.9620 - recall_1: 0.9573 - val_loss: 9.8319 - val_accuracy: 0.2105 - val_precision_1: 0.2110 - val_recall_1: 0.2018\n",
      "Epoch 17/50\n",
      "26/26 [==============================] - 85s 3s/step - loss: 0.1160 - accuracy: 0.9659 - precision_1: 0.9691 - recall_1: 0.9549 - val_loss: 5.1903 - val_accuracy: 0.2749 - val_precision_1: 0.3043 - val_recall_1: 0.2661\n",
      "Epoch 18/50\n",
      "26/26 [==============================] - 92s 4s/step - loss: 0.1207 - accuracy: 0.9659 - precision_1: 0.9704 - recall_1: 0.9585 - val_loss: 12.5498 - val_accuracy: 0.2193 - val_precision_1: 0.2189 - val_recall_1: 0.2164\n",
      "Epoch 19/50\n",
      "26/26 [==============================] - 86s 3s/step - loss: 0.1120 - accuracy: 0.9634 - precision_1: 0.9677 - recall_1: 0.9512 - val_loss: 10.4186 - val_accuracy: 0.1345 - val_precision_1: 0.1335 - val_recall_1: 0.1316\n",
      "Epoch 20/50\n",
      "26/26 [==============================] - 84s 3s/step - loss: 0.1960 - accuracy: 0.9427 - precision_1: 0.9482 - recall_1: 0.9378 - val_loss: 10.4511 - val_accuracy: 0.2076 - val_precision_1: 0.2077 - val_recall_1: 0.2047\n",
      "Epoch 21/50\n",
      "26/26 [==============================] - 93s 4s/step - loss: 0.2164 - accuracy: 0.9305 - precision_1: 0.9383 - recall_1: 0.9280 - val_loss: 8.4653 - val_accuracy: 0.3538 - val_precision_1: 0.3604 - val_recall_1: 0.3509\n",
      "Epoch 22/50\n",
      "26/26 [==============================] - 83s 3s/step - loss: 0.1899 - accuracy: 0.9476 - precision_1: 0.9553 - recall_1: 0.9378 - val_loss: 9.2007 - val_accuracy: 0.3801 - val_precision_1: 0.3881 - val_recall_1: 0.3801\n"
     ]
    }
   ],
   "source": [
    "callback = EarlyStopping(monitor='loss', patience=3)\n",
    "history1 = model.fit(\n",
    "    train_generator,\n",
    "    epochs=50,\n",
    "    validation_data=validation_generator,\n",
    "    callbacks=[callback]\n",
    ")\n"
   ]
  },
  {
   "cell_type": "markdown",
   "id": "dafb6676-5a48-40af-85b9-e6aa1754ca8d",
   "metadata": {},
   "source": [
    "**Evaluating the model on test images**"
   ]
  },
  {
   "cell_type": "code",
   "execution_count": 32,
   "id": "31870e39-a0c8-4267-ae9e-0db4d7299306",
   "metadata": {},
   "outputs": [
    {
     "name": "stdout",
     "output_type": "stream",
     "text": [
      "1/1 [==============================] - 1s 958ms/step\n",
      "6 : kayak\n",
      "\n",
      "\n",
      "1/1 [==============================] - 0s 32ms/step\n",
      "0 : buoy\n",
      "\n",
      "\n",
      "1/1 [==============================] - 0s 32ms/step\n",
      "6 : kayak\n",
      "\n",
      "\n",
      "1/1 [==============================] - 0s 32ms/step\n",
      "6 : kayak\n",
      "\n",
      "\n",
      "1/1 [==============================] - 0s 33ms/step\n",
      "0 : buoy\n",
      "\n",
      "\n",
      "1/1 [==============================] - 0s 33ms/step\n",
      "6 : kayak\n",
      "\n",
      "\n",
      "1/1 [==============================] - 0s 36ms/step\n",
      "6 : kayak\n",
      "\n",
      "\n",
      "1/1 [==============================] - 0s 34ms/step\n",
      "0 : buoy\n",
      "\n",
      "\n"
     ]
    }
   ],
   "source": [
    "for img in test_images:\n",
    "    x1 = load_img(test_image_path+img, target_size=(96,96))\n",
    "    x1 = img_to_array(x1)\n",
    "    x1 = np.expand_dims(x1, axis =0)\n",
    "    classes1 = model.predict(x1)\n",
    "    classes1 = np.array(classes1.flatten())    \n",
    "    \n",
    "    max_index = np.where(classes1 >= 0.5)    \n",
    "    for key,val in train_set.class_indices.items():\n",
    "        try:\n",
    "            if max_index[0][0] == val:\n",
    "                print(val,\":\",key)\n",
    "                print(\"\\n\")\n",
    "        except:\n",
    "            break"
   ]
  },
  {
   "cell_type": "markdown",
   "id": "cb4fef79-95d1-4e98-88dc-ac6d419ae79c",
   "metadata": {},
   "source": [
    "**printing the test loss and accuracy**"
   ]
  },
  {
   "cell_type": "code",
   "execution_count": 33,
   "id": "a26c4ab6-f7a5-460f-a196-2acc999fad2d",
   "metadata": {},
   "outputs": [
    {
     "name": "stdout",
     "output_type": "stream",
     "text": [
      "11/11 [==============================] - 5s 423ms/step - loss: 9.1626 - accuracy: 0.3509 - precision_1: 0.3625 - recall_1: 0.3509\n",
      "Test loss: 9.162562370300293\n",
      "Test accuracy: 0.35087719559669495\n"
     ]
    }
   ],
   "source": [
    "score1 = model.evaluate(validation_generator, verbose = 1) \n",
    "print('Test loss:', score1[0]) \n",
    "print('Test accuracy:', score1[1])"
   ]
  },
  {
   "cell_type": "markdown",
   "id": "6378d788-3e43-44da-8015-b9a4662ed756",
   "metadata": {},
   "source": [
    "**Evaluating the model on test images and print the test loss and accuracy**"
   ]
  },
  {
   "cell_type": "markdown",
   "id": "b8f57f4c-132f-4856-aaa3-0adc2ef0c3ea",
   "metadata": {},
   "source": [
    "**Plotting Train loss Vs Validation loss**"
   ]
  },
  {
   "cell_type": "code",
   "execution_count": 34,
   "id": "46eefc59-305c-4ff8-88b1-bac8d3c50a6a",
   "metadata": {},
   "outputs": [
    {
     "data": {
      "text/plain": [
       "dict_keys(['loss', 'accuracy', 'precision_1', 'recall_1', 'val_loss', 'val_accuracy', 'val_precision_1', 'val_recall_1'])"
      ]
     },
     "execution_count": 34,
     "metadata": {},
     "output_type": "execute_result"
    }
   ],
   "source": [
    "history1.history.keys()"
   ]
  },
  {
   "cell_type": "code",
   "execution_count": 35,
   "id": "b349b189-63dc-48f1-a94b-65045d8786cb",
   "metadata": {},
   "outputs": [
    {
     "data": {
      "image/png": "[encoded data removed]",
      "text/plain": [
       "<Figure size 640x480 with 1 Axes>"
      ]
     },
     "metadata": {},
     "output_type": "display_data"
    }
   ],
   "source": [
    "plt.plot(history1.history['loss'])\n",
    "plt.plot(history1.history['val_loss'])\n",
    "plt.title('model loss')\n",
    "plt.ylabel('loss')\n",
    "plt.xlabel('epoch')\n",
    "plt.legend(['train loss', 'validation loss'], loc='upper left')\n",
    "plt.show()"
   ]
  },
  {
   "cell_type": "markdown",
   "id": "46bb2275-989f-4457-b190-31beea5fd7bf",
   "metadata": {},
   "source": [
    "**Plotting Train accuracy Vs Validation accuracy**"
   ]
  },
  {
   "cell_type": "code",
   "execution_count": 36,
   "id": "2792debd-1893-46e8-8d0b-a55f713e2df6",
   "metadata": {},
   "outputs": [
    {
     "data": {
      "image/png": "[encoded data removed]",
      "text/plain": [
       "<Figure size 640x480 with 1 Axes>"
      ]
     },
     "metadata": {},
     "output_type": "display_data"
    }
   ],
   "source": [
    "plt.plot(history1.history['accuracy'])\n",
    "plt.plot(history1.history['val_accuracy'])\n",
    "plt.title('model accuracy')\n",
    "plt.ylabel('accuracy')\n",
    "plt.xlabel('epoch')\n",
    "plt.legend(['train accuracy', 'validation accuracy'], loc='upper left')\n",
    "plt.show()"
   ]
  },
  {
   "cell_type": "markdown",
   "id": "2df4ab68-4839-4599-a302-0e7be1d9801e",
   "metadata": {},
   "source": [
    "### **Conclusion**"
   ]
  },
  {
   "cell_type": "markdown",
   "id": "324564ba-7b13-4b4b-9a2a-31be85e7f1da",
   "metadata": {},
   "source": [
    "The automatic reporting system in CNN model and MobileNetV2 lightweight model that recognizes the boat is built"
   ]
  }
 ],
 "metadata": {
  "kernelspec": {
   "display_name": "Python 3 (ipykernel)",
   "language": "python",
   "name": "python3"
  },
  "language_info": {
   "codemirror_mode": {
    "name": "ipython",
    "version": 3
   },
   "file_extension": ".py",
   "mimetype": "text/x-python",
   "name": "python",
   "nbconvert_exporter": "python",
   "pygments_lexer": "ipython3",
   "version": "3.10.11"
  }
 },
 "nbformat": 4,
 "nbformat_minor": 5
}
